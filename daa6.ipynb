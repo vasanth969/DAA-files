{
 "cells": [
  {
   "cell_type": "code",
   "execution_count": 4,
   "id": "a076a475",
   "metadata": {},
   "outputs": [
    {
     "name": "stdout",
     "output_type": "stream",
     "text": [
      "3\n",
      "9\n",
      "12\n",
      "6\n",
      "18\n"
     ]
    }
   ],
   "source": [
    "matrix = [\n",
    "    [1, 2, 3],\n",
    "    [9, 4, 12],\n",
    "    [6, 8, 18]\n",
    "]\n",
    "product = 1\n",
    "\n",
    "for row in matrix:\n",
    "    for num in row:\n",
    "        if num % 3 == 0:\n",
    "            product *= num\n",
    "\n",
    "if product > 50:\n",
    "\n",
    "    for row in matrix:\n",
    "        for num in row:\n",
    "            if num % 3 == 0:\n",
    "                print(num)\n",
    "else:\n",
    "    print(\"The product is less than 50\")"
   ]
  },
  {
   "cell_type": "code",
   "execution_count": 7,
   "id": "811ffb46",
   "metadata": {},
   "outputs": [
    {
     "name": "stdout",
     "output_type": "stream",
     "text": [
      "Matrix A is  an  idempotent.\n"
     ]
    }
   ],
   "source": [
    "\n",
    "A = [\n",
    "    [2, -2, -4],\n",
    "    [-1, 3, 4],\n",
    "    [1, -2, -3]\n",
    "]\n",
    "\n",
    "def matrix_multiply(matrix1, matrix2):\n",
    "    result = [[0] * len(matrix2[0]) for _ in range(len(matrix1))]\n",
    "    \n",
    "    for i in range(len(matrix1)):\n",
    "        for j in range(len(matrix2[0])):\n",
    "            for k in range(len(matrix2)):\n",
    "                result[i][j] += matrix1[i][k] * matrix2[k][j]\n",
    "    \n",
    "    return result\n",
    "\n",
    "A_squared = matrix_multiply(A, A)\n",
    "\n",
    "\n",
    "is_idempotent = True\n",
    "for i in range(len(A)):\n",
    "    for j in range(len(A)):\n",
    "        if A_squared[i][j] != A[i][j]:\n",
    "            is_idempotent = False\n",
    "            break\n",
    "\n",
    "if is_idempotent:\n",
    "    print(\"Matrix A is  an idempotent.\")\n",
    "else:\n",
    "    print(\"Matrix A is   not idempotent.\")"
   ]
  },
  {
   "cell_type": "code",
   "execution_count": 9,
   "id": "bab39ccf",
   "metadata": {},
   "outputs": [
    {
     "name": "stdout",
     "output_type": "stream",
     "text": [
      "[7, 4, 1]\n",
      "[8, 5, 2]\n",
      "[9, 6, 3]\n"
     ]
    }
   ],
   "source": [
    "\n",
    "matrix = [\n",
    "    [1, 2, 3],\n",
    "    [4, 5, 6],\n",
    "    [7, 8, 9]\n",
    "]\n",
    "\n",
    "def rotate_matrix_counterclockwise(mat):\n",
    " \n",
    "    rows = len(mat)\n",
    "    cols = len(mat[0])\n",
    "    \n",
    "\n",
    "    rotated = [[0 for _ in range(rows)] for _ in range(cols)]\n",
    "    \n",
    "    for i in range(rows):\n",
    "        for j in range(cols):\n",
    "            rotated[j][rows - 1 - i] = mat[i][j]\n",
    "    \n",
    "    return rotated\n",
    "\n",
    "rotated_matrix = rotate_matrix_counterclockwise(matrix)\n",
    "\n",
    "for row in rotated_matrix:\n",
    "    print(row)\n"
   ]
  },
  {
   "cell_type": "code",
   "execution_count": 10,
   "id": "d04f451e",
   "metadata": {},
   "outputs": [
    {
     "name": "stdout",
     "output_type": "stream",
     "text": [
      "[3, 6, 9]\n",
      "[2, 5, 8]\n",
      "[1, 4, 7]\n"
     ]
    }
   ],
   "source": [
    "\n",
    "matrix = [\n",
    "    [1, 2, 3],\n",
    "    [4, 5, 6],\n",
    "    [7, 8, 9]\n",
    "]\n",
    "\n",
    "def rotate_matrix_clockwise(mat):\n",
    "    rows = len(mat)\n",
    "    cols = len(mat[0])\n",
    "    \n",
    "    rotated = [[0 for _ in range(rows)] for _ in range(cols)]\n",
    "    \n",
    "    for i in range(rows):\n",
    "        for j in range(cols):\n",
    "            rotated[cols - 1 - j][i] = mat[i][j]\n",
    "    \n",
    "    return rotated\n",
    "\n",
    "rotated_matrix = rotate_matrix_clockwise(matrix)\n",
    "\n",
    "for row in rotated_matrix:\n",
    "    print(row)\n"
   ]
  },
  {
   "cell_type": "code",
   "execution_count": null,
   "id": "392e9b40",
   "metadata": {},
   "outputs": [],
   "source": []
  }
 ],
 "metadata": {
  "kernelspec": {
   "display_name": "Python 3 (ipykernel)",
   "language": "python",
   "name": "python3"
  },
  "language_info": {
   "codemirror_mode": {
    "name": "ipython",
    "version": 3
   },
   "file_extension": ".py",
   "mimetype": "text/x-python",
   "name": "python",
   "nbconvert_exporter": "python",
   "pygments_lexer": "ipython3",
   "version": "3.11.5"
  }
 },
 "nbformat": 4,
 "nbformat_minor": 5
}
