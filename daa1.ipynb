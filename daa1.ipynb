{
 "cells": [
  {
   "cell_type": "code",
   "execution_count": 7,
   "id": "dfdaa7ad",
   "metadata": {},
   "outputs": [
    {
     "name": "stdout",
     "output_type": "stream",
     "text": [
      "\n",
      "Sum of Middle Row and Column (considering '8' only once): 56\n"
     ]
    }
   ],
   "source": [
    "matrix = [\n",
    "    [1, 2, 3, 4, 5],\n",
    "    [6, 7, 8, 9, 10],\n",
    "    [11, 12, 13, 14, 15]\n",
    "]\n",
    "\n",
    "common_element = 8\n",
    "common_element_indices = [(i, row.index(common_element)) for i, row in enumerate(matrix) if common_element in row]\n",
    "\n",
    "middle_row = matrix[common_element_indices[0][0]]\n",
    "middle_col = [row[common_element_indices[0][1]] for row in matrix]\n",
    "\n",
    "middle_row.remove(common_element)\n",
    "middle_col.remove(common_element)\n",
    "\n",
    "sum_middle_row_col = sum(middle_row) + sum(middle_col) + common_element\n",
    "\n",
    "\n",
    "print(\"\\nSum of Middle Row and Column (considering '8' only once):\", sum_middle_row_col)\n"
   ]
  },
  {
   "cell_type": "code",
   "execution_count": 9,
   "id": "0f7a08c6",
   "metadata": {},
   "outputs": [
    {
     "name": "stdout",
     "output_type": "stream",
     "text": [
      "Pattern matches found at indices:\n",
      "2\n",
      "9\n",
      "24\n"
     ]
    }
   ],
   "source": [
    "import re\n",
    "\n",
    "text = \"ababcdabcabcddbcabbababaabcd\"\n",
    "pattern = \"abcd\"\n",
    "\n",
    "# Find all occurrences of the pattern in the text\n",
    "matches = re.finditer(pattern, text)\n",
    "\n",
    "# Extract and print the indices of all matches\n",
    "print(\"Pattern matches found at indices:\")\n",
    "for match in matches:\n",
    "    print(match.start())\n"
   ]
  },
  {
   "cell_type": "code",
   "execution_count": 12,
   "id": "a389bfe7",
   "metadata": {},
   "outputs": [
    {
     "name": "stdout",
     "output_type": "stream",
     "text": [
      "Pattern matches found at indices:\n",
      "2\n",
      "9\n",
      "24\n"
     ]
    }
   ],
   "source": [
    "text = \"ababcdabcabcddbcabbababaabcd\"\n",
    "pattern = \"abcd\"\n",
    "\n",
    "matches = []\n",
    "index = text.find(pattern)\n",
    "\n",
    "while index != -1:\n",
    "    matches.append(index)\n",
    "    index = text.find(pattern, index + 1)\n",
    "\n",
    "print(\"Pattern matches found at indices:\")\n",
    "for match in matches:\n",
    "    print(match)\n"
   ]
  },
  {
   "cell_type": "code",
   "execution_count": 11,
   "id": "e7d52eac",
   "metadata": {},
   "outputs": [
    {
     "name": "stdout",
     "output_type": "stream",
     "text": [
      "Pattern matches found at indices:\n",
      "2\n",
      "9\n",
      "24\n"
     ]
    }
   ],
   "source": [
    "text = \"ababcdabcabcddbcabbababaabcd\"\n",
    "pattern = \"abcd\"\n",
    "\n",
    "matches = []\n",
    "\n",
    "for i in range(len(text)):\n",
    "    if text[i:i+len(pattern)] == pattern:\n",
    "        matches.append(i)\n",
    "\n",
    "print(\"Pattern matches found at indices:\")\n",
    "for match in matches:\n",
    "    print(match)\n"
   ]
  },
  {
   "cell_type": "code",
   "execution_count": 13,
   "id": "17a57617",
   "metadata": {},
   "outputs": [
    {
     "name": "stdout",
     "output_type": "stream",
     "text": [
      "Pattern matches found at indices:\n",
      "2\n",
      "9\n",
      "24\n"
     ]
    }
   ],
   "source": [
    "text = \"ababcdabcabcddbcabbababaabcd\"\n",
    "pattern = \"abcd\"\n",
    "\n",
    "common = []\n",
    "\n",
    "for i in range(len(text)):\n",
    "    if text[i:i+len(pattern)] == pattern:\n",
    "        common.append(i)\n",
    "        \n",
    "print(\"Pattern matches found at indices:\")\n",
    "for match in matches:\n",
    "    print(match)\n",
    "\n"
   ]
  },
  {
   "cell_type": "code",
   "execution_count": 17,
   "id": "dafe0518",
   "metadata": {},
   "outputs": [
    {
     "name": "stdout",
     "output_type": "stream",
     "text": [
      "The result of multiplication is: 15\n"
     ]
    }
   ],
   "source": [
    "def no_copy(a, b):\n",
    "    if a == 0 or b == 0:\n",
    "        return 0\n",
    "    else:\n",
    "        return a + no_copy(a, b - 1)\n",
    "\n",
    "result = no_copy(5, 3)\n",
    "print(f\"The result of multiplication is: {result}\")\n"
   ]
  },
  {
   "cell_type": "code",
   "execution_count": null,
   "id": "a7ba5f47",
   "metadata": {},
   "outputs": [],
   "source": []
  }
 ],
 "metadata": {
  "kernelspec": {
   "display_name": "Python 3 (ipykernel)",
   "language": "python",
   "name": "python3"
  },
  "language_info": {
   "codemirror_mode": {
    "name": "ipython",
    "version": 3
   },
   "file_extension": ".py",
   "mimetype": "text/x-python",
   "name": "python",
   "nbconvert_exporter": "python",
   "pygments_lexer": "ipython3",
   "version": "3.11.5"
  }
 },
 "nbformat": 4,
 "nbformat_minor": 5
}
