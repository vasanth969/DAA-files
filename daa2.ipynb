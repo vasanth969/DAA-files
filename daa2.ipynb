{
 "cells": [
  {
   "cell_type": "code",
   "execution_count": 2,
   "id": "44a931c4",
   "metadata": {},
   "outputs": [
    {
     "name": "stdout",
     "output_type": "stream",
     "text": [
      "Sorted array is: [0, 0, 0, 0, 0, 0, 1, 1, 1, 1, 2, 2, 2]\n"
     ]
    }
   ],
   "source": [
    "#   Implementation of the Bubble Sort algorithm \n",
    "\n",
    "def bubble_sort(arr):\n",
    "    n = len(arr)\n",
    "    for i in range(n):\n",
    "        swapped = False\n",
    "        for j in range(0, n - i - 1):\n",
    "            if arr[j] > arr[j + 1]:\n",
    "                arr[j], arr[j + 1] = arr[j + 1], arr[j]  \n",
    "                swapped = True\n",
    "\n",
    "        if not swapped:\n",
    "            break\n",
    "            \n",
    "arr = [1,1,0,0,2,2,0,0,1,0,2,0,1]\n",
    "bubble_sort(arr)\n",
    "print(\"Sorted array is:\", arr)"
   ]
  },
  {
   "cell_type": "code",
   "execution_count": 21,
   "id": "a5b4bc8d",
   "metadata": {},
   "outputs": [
    {
     "name": "stdout",
     "output_type": "stream",
     "text": [
      "['punit', 'kumar', 'singh']\n",
      "['Punit', 'Kumar', 'Singh']\n",
      "Punit Kumar Singh\n"
     ]
    }
   ],
   "source": [
    "# This code takes a full name in lowercase, splits it into individual words,\n",
    "# capitalizes the first letter of each word, and then joins the words back together \n",
    "# to create a properly formatted full name with capitalized initial letters.\n",
    "\n",
    "Name = \"punit kumar singh\"\n",
    "words = Name.split()\n",
    "print(words)\n",
    "Name_words = [word[0].upper() + word[1:] for word in words]\n",
    "print(Name_words)\n",
    "Name_string = ' '.join(Name_words)\n",
    "print(Name_string)"
   ]
  },
  {
   "cell_type": "code",
   "execution_count": 23,
   "id": "55ca8804",
   "metadata": {},
   "outputs": [
    {
     "name": "stdout",
     "output_type": "stream",
     "text": [
      "enter an expression : ({[]})\n",
      "The given expression is not balanced \n",
      "given String is balanced False\n"
     ]
    }
   ],
   "source": [
    "# this code checks if an input expression containing parentheses, \n",
    "# square brackets, and curly braces is balanced,\n",
    "# and it informs the user whether the expression is balanced or not.\n",
    "\n",
    "def fun(c):\n",
    "    while(len(c)!=0):\n",
    "        \n",
    "        c=c.replace('()','')\n",
    "        c=c.replace('[]','')\n",
    "        c=c.replace('{}','')\n",
    "        break\n",
    "        \n",
    "    if (len(c)==0):\n",
    "        return True\n",
    "    else:\n",
    "        print(\"The given expression is not balanced \")\n",
    "        return False\n",
    "    \n",
    "c = input(\"enter an expression : \")\n",
    "print(\"given String is balanced\",fun(c))\n"
   ]
  }
 ],
 "metadata": {
  "kernelspec": {
   "display_name": "Python 3 (ipykernel)",
   "language": "python",
   "name": "python3"
  },
  "language_info": {
   "codemirror_mode": {
    "name": "ipython",
    "version": 3
   },
   "file_extension": ".py",
   "mimetype": "text/x-python",
   "name": "python",
   "nbconvert_exporter": "python",
   "pygments_lexer": "ipython3",
   "version": "3.11.5"
  }
 },
 "nbformat": 4,
 "nbformat_minor": 5
}
