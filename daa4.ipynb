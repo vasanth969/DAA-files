{
 "cells": [
  {
   "cell_type": "code",
   "execution_count": 13,
   "id": "d376a889",
   "metadata": {},
   "outputs": [
    {
     "name": "stdout",
     "output_type": "stream",
     "text": [
      "Does the linked list have a cycle? True\n"
     ]
    }
   ],
   "source": [
    "#  The linked list has a cycle, so the output will be \"Does the linked list have a cycle? True.\"\n",
    "\n",
    "class ListNode:\n",
    "    def __init__(self, val):\n",
    "        self.val = val\n",
    "        self.next = None\n",
    "\n",
    "def hasCycle(head):\n",
    "    if not head or not head.next:\n",
    "        return False\n",
    "    \n",
    "    slow = head\n",
    "    fast = head.next\n",
    "    \n",
    "    while slow != fast:\n",
    "        if not fast or not fast.next: \n",
    "            return False\n",
    "        slow = slow.next\n",
    "        fast = fast.next.next\n",
    "    \n",
    "    return True\n",
    "\n",
    "\n",
    "# Create a linked list with a cycle\n",
    "node1 = ListNode(1)\n",
    "node2 = ListNode(2)\n",
    "node3 = ListNode(3)\n",
    "node4 = ListNode(4)\n",
    "\n",
    "node1.next = node2\n",
    "node2.next = node1\n",
    "node3.next = node3\n",
    "node4.next = node2  # Create a cycle from node4 to node2\n",
    "\n",
    "# Check if the linked list has a cycle\n",
    "has_cycle = hasCycle(node1)\n",
    "print(\"Does the linked list have a cycle?\", has_cycle)\n"
   ]
  },
  {
   "cell_type": "code",
   "execution_count": 12,
   "id": "a208e22f",
   "metadata": {},
   "outputs": [
    {
     "name": "stdout",
     "output_type": "stream",
     "text": [
      "Does the linked list have a cycle? False\n"
     ]
    }
   ],
   "source": [
    "#  The linked list does not have a cycle, so the output will be \"Does the linked list have a cycle? False.\"\n",
    "class ListNode:\n",
    "    def __init__(self, val):\n",
    "        self.val = val\n",
    "        self.next = None\n",
    "\n",
    "def hasCycle(head):\n",
    "    visited = set()\n",
    "    \n",
    "    current = head\n",
    "    while current:\n",
    "        # If the current node is already in the set, there's a loop\n",
    "        if current in visited:\n",
    "            return True\n",
    "        visited.add(current)\n",
    "        current = current.next\n",
    "    \n",
    "    # If we reach the end of the list without finding a loop, there isn't one\n",
    "    return False\n",
    "\n",
    "# Create a linked list without a cycle\n",
    "node1 = ListNode(1)\n",
    "node2 = ListNode(2)\n",
    "node3 = ListNode(3)\n",
    "node4 = ListNode(4)\n",
    "\n",
    "node1.next = node2\n",
    "node2.next = node3\n",
    "node3.next = node4\n",
    "\n",
    "# Check if the linked list has a cycle\n",
    "has_cycle = hasCycle(node1).,L\n",
    "print(\"Does the linked list have a cycle?\", has_cycle)\n"
   ]
  },
  {
   "cell_type": "code",
   "execution_count": 16,
   "id": "c51d5024",
   "metadata": {},
   "outputs": [
    {
     "name": "stdout",
     "output_type": "stream",
     "text": [
      "[1, 10, 11, 12]\n"
     ]
    }
   ],
   "source": [
    "# The code effectively removes duplicates from the original list \n",
    "# and stores the unique elements in the unique_array list.\n",
    "arr = [1,12,11,10,11,1]\n",
    "unique_array = list(set(arr))\n",
    "print(unique_array)"
   ]
  },
  {
   "cell_type": "code",
   "execution_count": 23,
   "id": "53b3f4f4",
   "metadata": {},
   "outputs": [
    {
     "name": "stdout",
     "output_type": "stream",
     "text": [
      "BON NOB is a palindrome.\n"
     ]
    }
   ],
   "source": [
    "# \"BON NOB\" is a palindrome when spaces are removed and the comparison is made case-insensitive.\n",
    "# So, the code will print \"BON NOB is a palindrome.\"\n",
    "\n",
    "def is_palindrome(word):\n",
    "  # Remove spaces and convert to lowercase (if needed)\n",
    "  word = word.replace(\" \", \"\").lower()\n",
    "\n",
    "  # Reverse the word\n",
    "  reversed_word = word[::-1]\n",
    "\n",
    "  # Check if the original and reversed word are the same\n",
    "  return word == reversed_word\n",
    "\n",
    "# Word to check\n",
    "\n",
    "word = \"BON NOB\"\n",
    "\n",
    "# Check if the word is a palindrome\n",
    "if is_palindrome(word):\n",
    "  print(f\"{word} is a palindrome.\")\n",
    "else:\n",
    "  print(f\"{word} is not a palindrome.\")\n"
   ]
  }
 ],
 "metadata": {
  "kernelspec": {
   "display_name": "Python 3 (ipykernel)",
   "language": "python",
   "name": "python3"
  },
  "language_info": {
   "codemirror_mode": {
    "name": "ipython",
    "version": 3
   },
   "file_extension": ".py",
   "mimetype": "text/x-python",
   "name": "python",
   "nbconvert_exporter": "python",
   "pygments_lexer": "ipython3",
   "version": "3.11.5"
  }
 },
 "nbformat": 4,
 "nbformat_minor": 5
}
