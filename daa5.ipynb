{
 "cells": [
  {
   "cell_type": "code",
   "execution_count": 11,
   "id": "6bf2dcd4",
   "metadata": {},
   "outputs": [
    {
     "name": "stdout",
     "output_type": "stream",
     "text": [
      "The row with the maximum number of 1's is: 4\n"
     ]
    }
   ],
   "source": [
    "\n",
    "def find_max_ones_row(matrix):\n",
    "    max_ones_count = 0\n",
    "    max_ones_row = -1\n",
    "\n",
    "    for i in range(len(matrix)):\n",
    "        ones_count = sum(1 for num in matrix[i] if num == 1)\n",
    "        if ones_count > max_ones_count:\n",
    "            max_ones_count = ones_count\n",
    "            max_ones_row = i\n",
    "\n",
    "    return max_ones_row\n",
    "\n",
    "\n",
    "matrix = [\n",
    "    [0, 0, 1, 0],\n",
    "    [1, 1, 0, 1],\n",
    "    [0, 0, 0, 0],\n",
    "    [1, 1, 1, 1]\n",
    "]\n",
    "\n",
    "max_ones_row = find_max_ones_row(matrix)\n",
    "\n",
    "print(f\"The row with the maximum number of 1's is: {max_ones_row + 1}\") "
   ]
  },
  {
   "cell_type": "code",
   "execution_count": null,
   "id": "de8dbec9",
   "metadata": {},
   "outputs": [],
   "source": []
  }
 ],
 "metadata": {
  "kernelspec": {
   "display_name": "Python 3 (ipykernel)",
   "language": "python",
   "name": "python3"
  },
  "language_info": {
   "codemirror_mode": {
    "name": "ipython",
    "version": 3
   },
   "file_extension": ".py",
   "mimetype": "text/x-python",
   "name": "python",
   "nbconvert_exporter": "python",
   "pygments_lexer": "ipython3",
   "version": "3.11.5"
  }
 },
 "nbformat": 4,
 "nbformat_minor": 5
}
